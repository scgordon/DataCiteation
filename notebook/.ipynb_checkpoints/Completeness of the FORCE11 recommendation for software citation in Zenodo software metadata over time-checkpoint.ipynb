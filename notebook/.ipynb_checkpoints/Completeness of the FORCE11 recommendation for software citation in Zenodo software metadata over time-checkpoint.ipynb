{
 "cells": [
  {
   "cell_type": "markdown",
   "metadata": {},
   "source": [
    "# Query: Are ZENODO records that are software citations becoming more complete with respect to the FORCE11 recommendation for software citation?\n",
    "\n",
    "* DataCite has a list of metadata concepts that comprise the recommendation for citing software.\n",
    "* What percentage of a sample from each month has every metadata concept in the recommendation? \n",
    "* Does that percentage increase after 2016 September?\n",
    "* Is the originating repository's metadata contained in the xml payload more complete than the JSON from the API?"
   ]
  },
  {
   "cell_type": "markdown",
   "metadata": {},
   "source": [
    "Lets create a list of 4-tuples containing a start year and month and an end year and month. we can use it to create a series of queries like the function in the previous 'chapter'\n"
   ]
  },
  {
   "cell_type": "code",
   "execution_count": null,
   "metadata": {
    "scrolled": true
   },
   "outputs": [],
   "source": [
    " # need to add the dec-jan range for each year end\n",
    "def month_year_iter( start_month, start_year, end_month, end_year ):\n",
    "    ym_start= 12*start_year + start_month - 1\n",
    "    ym_end= 12*end_year + end_month - 1\n",
    "    for ym in range( ym_start, ym_end ):\n",
    "        y, m = divmod( ym, 12 )\n",
    "        if m != 0:\n",
    "            yield y, m, y, m+1\n",
    "        \n",
    "\n",
    "MonthRangeList=list(month_year_iter(1,2011,4,2018))\n",
    "MonthRangeList"
   ]
  },
  {
   "cell_type": "markdown",
   "metadata": {},
   "source": [
    "Use something like the following to count records that have text at all FORCE11concepts in each query"
   ]
  },
  {
   "cell_type": "code",
   "execution_count": null,
   "metadata": {},
   "outputs": [],
   "source": [
    "jupyter_count = 0\n",
    "for d in data4['data']:\n",
    "    if 'jupyter' in d['attributes']['description'].lower() or \\\n",
    "       'jupyter' in d['attributes']['title'].lower():\n",
    "        print(\"{}\\n\\t{}\".format(d['attributes']['title'], \n",
    "                                d['attributes']['description']))\n",
    "        jupyter_count+=1"
   ]
  },
  {
   "cell_type": "markdown",
   "metadata": {},
   "source": [
    "if we investigate the corresponding Datacite xpaths in the xml blobs, does the percentage of complete records increase?"
   ]
  },
  {
   "cell_type": "code",
   "execution_count": null,
   "metadata": {},
   "outputs": [],
   "source": []
  }
 ],
 "metadata": {
  "kernelspec": {
   "display_name": "Python 3",
   "language": "python",
   "name": "python3"
  },
  "language_info": {
   "codemirror_mode": {
    "name": "ipython",
    "version": 3
   },
   "file_extension": ".py",
   "mimetype": "text/x-python",
   "name": "python",
   "nbconvert_exporter": "python",
   "pygments_lexer": "ipython3",
   "version": "3.6.4"
  }
 },
 "nbformat": 4,
 "nbformat_minor": 2
}
