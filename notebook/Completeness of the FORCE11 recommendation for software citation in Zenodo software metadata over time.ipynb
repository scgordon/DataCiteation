{
 "cells": [
  {
   "cell_type": "markdown",
   "metadata": {},
   "source": [
    "# Query: Are ZENODO records that are software citations becoming more complete with respect to the FORCE11 recommendation for software citation?\n",
    "\n",
    "DataCite has a list of metadata concepts that comprise the recommendation for citing software. What percentage of a sample from each month has every metadata concept in the recommendation?"
   ]
  },
  {
   "cell_type": "markdown",
   "metadata": {},
   "source": [
    "Lets create a list of 4-tuples containing a start year and month and an end year and month\n"
   ]
  },
  {
   "cell_type": "code",
   "execution_count": 3,
   "metadata": {},
   "outputs": [
    {
     "data": {
      "text/plain": [
       "[(2011, 1, 2011, 2),\n",
       " (2011, 2, 2011, 3),\n",
       " (2011, 3, 2011, 4),\n",
       " (2011, 4, 2011, 5),\n",
       " (2011, 5, 2011, 6),\n",
       " (2011, 6, 2011, 7),\n",
       " (2011, 7, 2011, 8),\n",
       " (2011, 8, 2011, 9),\n",
       " (2011, 9, 2011, 10),\n",
       " (2011, 10, 2011, 11),\n",
       " (2011, 11, 2011, 12),\n",
       " (2012, 1, 2012, 2),\n",
       " (2012, 2, 2012, 3),\n",
       " (2012, 3, 2012, 4),\n",
       " (2012, 4, 2012, 5),\n",
       " (2012, 5, 2012, 6),\n",
       " (2012, 6, 2012, 7),\n",
       " (2012, 7, 2012, 8),\n",
       " (2012, 8, 2012, 9),\n",
       " (2012, 9, 2012, 10),\n",
       " (2012, 10, 2012, 11),\n",
       " (2012, 11, 2012, 12),\n",
       " (2013, 1, 2013, 2),\n",
       " (2013, 2, 2013, 3),\n",
       " (2013, 3, 2013, 4),\n",
       " (2013, 4, 2013, 5),\n",
       " (2013, 5, 2013, 6),\n",
       " (2013, 6, 2013, 7),\n",
       " (2013, 7, 2013, 8),\n",
       " (2013, 8, 2013, 9),\n",
       " (2013, 9, 2013, 10),\n",
       " (2013, 10, 2013, 11),\n",
       " (2013, 11, 2013, 12),\n",
       " (2014, 1, 2014, 2),\n",
       " (2014, 2, 2014, 3),\n",
       " (2014, 3, 2014, 4),\n",
       " (2014, 4, 2014, 5),\n",
       " (2014, 5, 2014, 6),\n",
       " (2014, 6, 2014, 7),\n",
       " (2014, 7, 2014, 8),\n",
       " (2014, 8, 2014, 9),\n",
       " (2014, 9, 2014, 10),\n",
       " (2014, 10, 2014, 11),\n",
       " (2014, 11, 2014, 12),\n",
       " (2015, 1, 2015, 2),\n",
       " (2015, 2, 2015, 3),\n",
       " (2015, 3, 2015, 4),\n",
       " (2015, 4, 2015, 5),\n",
       " (2015, 5, 2015, 6),\n",
       " (2015, 6, 2015, 7),\n",
       " (2015, 7, 2015, 8),\n",
       " (2015, 8, 2015, 9),\n",
       " (2015, 9, 2015, 10),\n",
       " (2015, 10, 2015, 11),\n",
       " (2015, 11, 2015, 12),\n",
       " (2016, 1, 2016, 2),\n",
       " (2016, 2, 2016, 3),\n",
       " (2016, 3, 2016, 4),\n",
       " (2016, 4, 2016, 5),\n",
       " (2016, 5, 2016, 6),\n",
       " (2016, 6, 2016, 7),\n",
       " (2016, 7, 2016, 8),\n",
       " (2016, 8, 2016, 9),\n",
       " (2016, 9, 2016, 10),\n",
       " (2016, 10, 2016, 11),\n",
       " (2016, 11, 2016, 12),\n",
       " (2017, 1, 2017, 2),\n",
       " (2017, 2, 2017, 3),\n",
       " (2017, 3, 2017, 4),\n",
       " (2017, 4, 2017, 5),\n",
       " (2017, 5, 2017, 6),\n",
       " (2017, 6, 2017, 7),\n",
       " (2017, 7, 2017, 8),\n",
       " (2017, 8, 2017, 9),\n",
       " (2017, 9, 2017, 10),\n",
       " (2017, 10, 2017, 11),\n",
       " (2017, 11, 2017, 12),\n",
       " (2018, 1, 2018, 2),\n",
       " (2018, 2, 2018, 3)]"
      ]
     },
     "execution_count": 3,
     "metadata": {},
     "output_type": "execute_result"
    }
   ],
   "source": [
    " # need to add the dec-jan range for each year end\n",
    "def month_year_iter( start_month, start_year, end_month, end_year ):\n",
    "    ym_start= 12*start_year + start_month - 1\n",
    "    ym_end= 12*end_year + end_month - 1\n",
    "    for ym in range( ym_start, ym_end ):\n",
    "        y, m = divmod( ym, 12 )\n",
    "        if m != 0:\n",
    "            yield y, m, y, m+1\n",
    "        \n",
    "\n",
    "MonthRangeList=list(month_year_iter(1,2011,4,2018))\n",
    "MonthRangeList"
   ]
  },
  {
   "cell_type": "code",
   "execution_count": null,
   "metadata": {},
   "outputs": [],
   "source": []
  },
  {
   "cell_type": "code",
   "execution_count": null,
   "metadata": {},
   "outputs": [],
   "source": []
  }
 ],
 "metadata": {
  "kernelspec": {
   "display_name": "Python 3",
   "language": "python",
   "name": "python3"
  },
  "language_info": {
   "codemirror_mode": {
    "name": "ipython",
    "version": 3
   },
   "file_extension": ".py",
   "mimetype": "text/x-python",
   "name": "python",
   "nbconvert_exporter": "python",
   "pygments_lexer": "ipython3",
   "version": "3.6.4"
  }
 },
 "nbformat": 4,
 "nbformat_minor": 2
}
