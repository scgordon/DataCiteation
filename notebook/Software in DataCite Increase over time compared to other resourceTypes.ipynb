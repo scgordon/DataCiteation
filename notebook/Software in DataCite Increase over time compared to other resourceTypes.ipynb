{
 "cells": [
  {
   "cell_type": "markdown",
   "metadata": {},
   "source": [
    "# Query: is software citation exponentially growing, or is it DOI adoption?\n",
    "\n",
    "Software citation has recently been shown to be on the increase in DataCite. [Fenner, 2018](https://doi.org/10.5438/1nmy-9902). This has been attributed to github packaging integration and FORCE11 recommendations for software citation. Zenodo was described as the largest contributor of software resource type.\n",
    "\n",
    "[Zenodo](https://zenodo.org) also has a number of scientific packages with different resource types. Do other resource types show the exponential increases in citation that software is experiencing? \n",
    "\n",
    "We can use the DataCite [API](https://api.datacite.org/) to investigate citation rates for specific resource types. "
   ]
  },
  {
   "cell_type": "markdown",
   "metadata": {},
   "source": [
    "Here are the total counts of the resource types in Zenodo. The only DataCite resource type not used is collection. Software is the fourth most common type."
   ]
  },
  {
   "cell_type": "code",
   "execution_count": 146,
   "metadata": {},
   "outputs": [
    {
     "data": {
      "text/plain": [
       "[(174824, 'text'),\n",
       " (156294, 'image'),\n",
       " (49397, 'dataset'),\n",
       " (46245, 'software'),\n",
       " (1424, 'other'),\n",
       " (1043, 'audiovisual'),\n",
       " (848, 'interactive-resource')]"
      ]
     },
     "execution_count": 146,
     "metadata": {},
     "output_type": "execute_result"
    }
   ],
   "source": [
    "import requests\n",
    "r = requests.get(\"https://api.datacite.org/works?data-center-id=cern.zenodo&page[size]=1\")\n",
    "if r.status_code == 200:\n",
    "    data = r.json()\n",
    "\n",
    "dataDict = data['meta']['resource-types']\n",
    "dataDict\n",
    "ResourceCountList = [d['count'] for d in dataDict]\n",
    "ResourceTypeList = [d['id'] for d in dataDict]\n",
    "CountTypes = list(zip(ResourceCountList,ResourceTypeList))\n",
    "CountTypes"
   ]
  },
  {
   "cell_type": "markdown",
   "metadata": {},
   "source": [
    "Let's get the breakdown by year since that is the best resolution into doi registration that we can easily get with the DataCite API"
   ]
  },
  {
   "cell_type": "code",
   "execution_count": 147,
   "metadata": {},
   "outputs": [
    {
     "data": {
      "text/html": [
       "<div>\n",
       "<style scoped>\n",
       "    .dataframe tbody tr th:only-of-type {\n",
       "        vertical-align: middle;\n",
       "    }\n",
       "\n",
       "    .dataframe tbody tr th {\n",
       "        vertical-align: top;\n",
       "    }\n",
       "\n",
       "    .dataframe thead th {\n",
       "        text-align: right;\n",
       "    }\n",
       "</style>\n",
       "<table border=\"1\" class=\"dataframe\">\n",
       "  <thead>\n",
       "    <tr style=\"text-align: right;\">\n",
       "      <th></th>\n",
       "      <th>2013</th>\n",
       "      <th>2014</th>\n",
       "      <th>2015</th>\n",
       "      <th>2016</th>\n",
       "      <th>2017</th>\n",
       "      <th>2018</th>\n",
       "    </tr>\n",
       "  </thead>\n",
       "  <tbody>\n",
       "    <tr>\n",
       "      <th>text</th>\n",
       "      <td>261</td>\n",
       "      <td>3206</td>\n",
       "      <td>17464</td>\n",
       "      <td>20586</td>\n",
       "      <td>61686</td>\n",
       "      <td>71621</td>\n",
       "    </tr>\n",
       "    <tr>\n",
       "      <th>image</th>\n",
       "      <td>4</td>\n",
       "      <td>20</td>\n",
       "      <td>89</td>\n",
       "      <td>50868</td>\n",
       "      <td>88236</td>\n",
       "      <td>17077</td>\n",
       "    </tr>\n",
       "    <tr>\n",
       "      <th>dataset</th>\n",
       "      <td>38</td>\n",
       "      <td>266</td>\n",
       "      <td>1430</td>\n",
       "      <td>1721</td>\n",
       "      <td>32332</td>\n",
       "      <td>13610</td>\n",
       "    </tr>\n",
       "    <tr>\n",
       "      <th>software</th>\n",
       "      <td>14</td>\n",
       "      <td>1803</td>\n",
       "      <td>3918</td>\n",
       "      <td>8801</td>\n",
       "      <td>22546</td>\n",
       "      <td>9163</td>\n",
       "    </tr>\n",
       "    <tr>\n",
       "      <th>other</th>\n",
       "      <td>0</td>\n",
       "      <td>0</td>\n",
       "      <td>0</td>\n",
       "      <td>0</td>\n",
       "      <td>240</td>\n",
       "      <td>1184</td>\n",
       "    </tr>\n",
       "    <tr>\n",
       "      <th>audiovisual</th>\n",
       "      <td>11</td>\n",
       "      <td>11</td>\n",
       "      <td>62</td>\n",
       "      <td>150</td>\n",
       "      <td>604</td>\n",
       "      <td>205</td>\n",
       "    </tr>\n",
       "    <tr>\n",
       "      <th>interactive-resource</th>\n",
       "      <td>0</td>\n",
       "      <td>0</td>\n",
       "      <td>49</td>\n",
       "      <td>76</td>\n",
       "      <td>338</td>\n",
       "      <td>385</td>\n",
       "    </tr>\n",
       "  </tbody>\n",
       "</table>\n",
       "</div>"
      ],
      "text/plain": [
       "                      2013  2014   2015   2016   2017   2018\n",
       "text                   261  3206  17464  20586  61686  71621\n",
       "image                    4    20     89  50868  88236  17077\n",
       "dataset                 38   266   1430   1721  32332  13610\n",
       "software                14  1803   3918   8801  22546   9163\n",
       "other                    0     0      0      0    240   1184\n",
       "audiovisual             11    11     62    150    604    205\n",
       "interactive-resource     0     0     49     76    338    385"
      ]
     },
     "execution_count": 147,
     "metadata": {},
     "output_type": "execute_result"
    }
   ],
   "source": [
    "import pandas as pd\n",
    "def getResourceTypeCounts(ResourceType):\n",
    "    #import requests\n",
    "    Query = \"https://api.datacite.org/works?data-center-id=cern.zenodo&resource-type-id=\"+ResourceType+\"&page[size]=1\"\n",
    "    r = requests.get(Query)\n",
    "    if r.status_code == 200:\n",
    "        data = r.json()\n",
    "\n",
    "    dataDict = data['meta']['registered']\n",
    "    dataDict\n",
    "    ResourceCountList = [d['count'] for d in dataDict]\n",
    "    ResourceYearList = [d['id'] for d in dataDict]\n",
    "    CombinedList = dict(zip(ResourceYearList,ResourceCountList))\n",
    "    ResourceDict = {'ResourceType':ResourceType}\n",
    "    \n",
    "    CombinedList['ResourceType'] = ResourceType\n",
    "    TotalList.append(CombinedList)\n",
    "TotalList = []\n",
    "for ResourceType in ResourceTypeList:\n",
    "    getResourceTypeCounts(ResourceType)\n",
    "df = pd.DataFrame(TotalList,columns=('2013','2014','2015','2016','2017','2018')).fillna(0)\n",
    "df[['2013','2014','2015','2016','2017','2018']] = df[['2013','2014','2015','2016','2017','2018']].astype(int)\n",
    "df.index = ResourceTypeList\n",
    "df"
   ]
  },
  {
   "cell_type": "markdown",
   "metadata": {},
   "source": [
    "It looks like the same story as software, but let's visualize it to make it more obvious."
   ]
  },
  {
   "cell_type": "code",
   "execution_count": 145,
   "metadata": {},
   "outputs": [
    {
     "data": {
      "image/png": "[encoded data removed]",
      "text/plain": [
       "<matplotlib.figure.Figure at 0x11e5923c8>"
      ]
     },
     "metadata": {},
     "output_type": "display_data"
    }
   ],
   "source": [
    "import matplotlib.pyplot as plt\n",
    "fig, axes = plt.subplots(nrows=1, ncols=df.shape[0])\n",
    "fig.set_figheight(3)\n",
    "fig.set_figwidth(30)\n",
    "for i in range(0, df.shape[0]):\n",
    "    subset = df.iloc[i,:]\n",
    "    subset.plot(kind='bar', ax=axes[i])\n",
    "    axes[i].set_title(subset.name)"
   ]
  },
  {
   "cell_type": "markdown",
   "metadata": {},
   "source": [
    "From the charts it looks like all kinds of resource types are growing, many faster than software, particularly when you take into account that in this query each version of a software is assigned a DOI and thus counted.\n",
    "\n",
    "It may be valuable at this point to discover if the completeness of the FORCE11 software citation metadata concepts is increasing as a function of time. \n",
    "\n",
    "As we have already shown with DataCite, awareness drives adoption."
   ]
  },
  {
   "cell_type": "markdown",
   "metadata": {},
   "source": [
    "Now perhaps more interestingly, are software metadata records becoming more FORCE11 compliant as time goes on? \n",
    "\n",
    "[Completeness of Zenodo software metadata with respect to the FORCE11 software citation recommendation](../notebooks/Completeness%20of%20the%20FORCE11%20recommendation%20for%20software%20citation%20in%20Zenodo%20software%20metadata%20over%20time.ipynb)"
   ]
  },
  {
   "cell_type": "code",
   "execution_count": 149,
   "metadata": {},
   "outputs": [
    {
     "data": {
      "text/plain": [
       "[(2011, 1, 2011, 2),\n",
       " (2011, 2, 2011, 3),\n",
       " (2011, 3, 2011, 4),\n",
       " (2011, 4, 2011, 5),\n",
       " (2011, 5, 2011, 6),\n",
       " (2011, 6, 2011, 7),\n",
       " (2011, 7, 2011, 8),\n",
       " (2011, 8, 2011, 9),\n",
       " (2011, 9, 2011, 10),\n",
       " (2011, 10, 2011, 11),\n",
       " (2011, 11, 2011, 12),\n",
       " (2012, 1, 2012, 2),\n",
       " (2012, 2, 2012, 3),\n",
       " (2012, 3, 2012, 4),\n",
       " (2012, 4, 2012, 5),\n",
       " (2012, 5, 2012, 6),\n",
       " (2012, 6, 2012, 7),\n",
       " (2012, 7, 2012, 8),\n",
       " (2012, 8, 2012, 9),\n",
       " (2012, 9, 2012, 10),\n",
       " (2012, 10, 2012, 11),\n",
       " (2012, 11, 2012, 12),\n",
       " (2013, 1, 2013, 2),\n",
       " (2013, 2, 2013, 3),\n",
       " (2013, 3, 2013, 4),\n",
       " (2013, 4, 2013, 5),\n",
       " (2013, 5, 2013, 6),\n",
       " (2013, 6, 2013, 7),\n",
       " (2013, 7, 2013, 8),\n",
       " (2013, 8, 2013, 9),\n",
       " (2013, 9, 2013, 10),\n",
       " (2013, 10, 2013, 11),\n",
       " (2013, 11, 2013, 12),\n",
       " (2014, 1, 2014, 2),\n",
       " (2014, 2, 2014, 3),\n",
       " (2014, 3, 2014, 4),\n",
       " (2014, 4, 2014, 5),\n",
       " (2014, 5, 2014, 6),\n",
       " (2014, 6, 2014, 7),\n",
       " (2014, 7, 2014, 8),\n",
       " (2014, 8, 2014, 9),\n",
       " (2014, 9, 2014, 10),\n",
       " (2014, 10, 2014, 11),\n",
       " (2014, 11, 2014, 12),\n",
       " (2015, 1, 2015, 2),\n",
       " (2015, 2, 2015, 3),\n",
       " (2015, 3, 2015, 4),\n",
       " (2015, 4, 2015, 5),\n",
       " (2015, 5, 2015, 6),\n",
       " (2015, 6, 2015, 7),\n",
       " (2015, 7, 2015, 8),\n",
       " (2015, 8, 2015, 9),\n",
       " (2015, 9, 2015, 10),\n",
       " (2015, 10, 2015, 11),\n",
       " (2015, 11, 2015, 12),\n",
       " (2016, 1, 2016, 2),\n",
       " (2016, 2, 2016, 3),\n",
       " (2016, 3, 2016, 4),\n",
       " (2016, 4, 2016, 5),\n",
       " (2016, 5, 2016, 6),\n",
       " (2016, 6, 2016, 7),\n",
       " (2016, 7, 2016, 8),\n",
       " (2016, 8, 2016, 9),\n",
       " (2016, 9, 2016, 10),\n",
       " (2016, 10, 2016, 11),\n",
       " (2016, 11, 2016, 12),\n",
       " (2017, 1, 2017, 2),\n",
       " (2017, 2, 2017, 3),\n",
       " (2017, 3, 2017, 4),\n",
       " (2017, 4, 2017, 5),\n",
       " (2017, 5, 2017, 6),\n",
       " (2017, 6, 2017, 7),\n",
       " (2017, 7, 2017, 8),\n",
       " (2017, 8, 2017, 9),\n",
       " (2017, 9, 2017, 10),\n",
       " (2017, 10, 2017, 11),\n",
       " (2017, 11, 2017, 12),\n",
       " (2018, 1, 2018, 2),\n",
       " (2018, 2, 2018, 3)]"
      ]
     },
     "execution_count": 149,
     "metadata": {},
     "output_type": "execute_result"
    }
   ],
   "source": [
    " # create a list of 4-tuples to iterate over\n",
    " #    \n",
    "def month_year_iter( start_month, start_year, end_month, end_year ):\n",
    "    ym_start= 12*start_year + start_month - 1\n",
    "    ym_end= 12*end_year + end_month - 1\n",
    "    for ym in range( ym_start, ym_end ):\n",
    "        y, m = divmod( ym, 12 )\n",
    "        if m != 0:\n",
    "            yield y, m, y, m+1\n",
    "        \n",
    "\n",
    "MonthRangeList=list(month_year_iter(1,2011,4,2018))\n",
    "MonthRangeList"
   ]
  },
  {
   "cell_type": "code",
   "execution_count": null,
   "metadata": {},
   "outputs": [],
   "source": []
  }
 ],
 "metadata": {
  "kernelspec": {
   "display_name": "Python 3",
   "language": "python",
   "name": "python3"
  },
  "language_info": {
   "codemirror_mode": {
    "name": "ipython",
    "version": 3
   },
   "file_extension": ".py",
   "mimetype": "text/x-python",
   "name": "python",
   "nbconvert_exporter": "python",
   "pygments_lexer": "ipython3",
   "version": "3.6.4"
  }
 },
 "nbformat": 4,
 "nbformat_minor": 2
}
